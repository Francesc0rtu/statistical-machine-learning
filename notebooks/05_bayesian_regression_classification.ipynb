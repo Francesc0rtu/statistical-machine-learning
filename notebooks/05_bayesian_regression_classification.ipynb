{
 "cells": [
  {
   "cell_type": "markdown",
   "metadata": {},
   "source": [
    "# Bayesian regression / classification in sklearn"
   ]
  },
  {
   "cell_type": "markdown",
   "metadata": {},
   "source": [
    "**sklearn documentation:**\n",
    "\n",
    "- [Linear models](https://scikit-learn.org/stable/modules/linear_model.html#)\n",
    "- [Bayesian regression](https://scikit-learn.org/stable/modules/linear_model.html#bayesian-regression)\n",
    "- [Naive Bayes methods](https://scikit-learn.org/stable/modules/naive_bayes.html)"
   ]
  }
 ],
 "metadata": {
  "kernelspec": {
   "display_name": "Python 3",
   "language": "python",
   "name": "python3"
  },
  "language_info": {
   "codemirror_mode": {
    "name": "ipython",
    "version": 3
   },
   "file_extension": ".py",
   "mimetype": "text/x-python",
   "name": "python",
   "nbconvert_exporter": "python",
   "pygments_lexer": "ipython3",
   "version": "3.6.9"
  }
 },
 "nbformat": 4,
 "nbformat_minor": 4
}
