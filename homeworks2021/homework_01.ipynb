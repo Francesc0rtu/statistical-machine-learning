{
 "cells": [
  {
   "cell_type": "markdown",
   "metadata": {},
   "source": [
    "# Homework 01"
   ]
  },
  {
   "cell_type": "markdown",
   "metadata": {},
   "source": [
    "### Exercise 1\n",
    "\n",
    "Let $X$ be a continuous random variable with PDF \n",
    "\n",
    "$$\n",
    "f(x)=\n",
    "\\begin{cases}\n",
    "\\frac{5}{32}x^4 &\\text{for } 0< x\\leq2\\\\\n",
    "0 & \\text{otherwise}\n",
    "\\end{cases}\n",
    "$$\n",
    "\n",
    "and let $Y=X^2$.\n",
    "\n",
    "1. Find the CDF of $Y$.\n",
    "2. Find the PDF of $Y$.\n",
    "3. Find $\\mathbb{E}[Y]$.\n"
   ]
  },
  {
   "cell_type": "markdown",
   "metadata": {},
   "source": [
    "### Exercise 2\n",
    "\n",
    "Suppose that the joint PDF of $X$ and $Y$ is\n",
    "\n",
    "$$\n",
    "f(x,y)= \n",
    "\\begin{cases}\n",
    "\\frac{15}{4}x^2 & \\text{for } 0\\leq y \\leq 1-x^2 \\text{ and } -1\\leq x\\leq 1 \\\\\n",
    "0 & \\text{otherwise}\n",
    "\\end{cases}\n",
    "$$\n",
    "\n",
    "Determine the marginal PDFs of $X$ and $Y$."
   ]
  },
  {
   "cell_type": "markdown",
   "metadata": {},
   "source": [
    "### Exercise 3\n",
    "\n",
    "Let $X$ and $Y$ be continuous random variables with joint PDF \n",
    "\n",
    "$$\n",
    "f(x,y) = \n",
    "\\begin{cases}\n",
    "6 e^{-(2x+3y)} &\\text{for } x,y\\geq 0\\\\\n",
    "0 &\\text{otherwise}\n",
    "\\end{cases}\n",
    "$$\n",
    "\n",
    "1. Are $X$ and $Y$ independent?\n",
    "2. Find $\\mathbb{E}[Y|X>2]$.\n",
    "3. Find $P(X>Y)$."
   ]
  },
  {
   "cell_type": "markdown",
   "metadata": {},
   "source": [
    "### Exercise 4\n",
    "\n",
    "Let $X$ and $Y$ be two continuous random variables with joint PDF \n",
    "\n",
    "$$\n",
    "\\begin{cases}\n",
    "x+\\frac{3}{2}y^2 & \\text{for } 0\\leq x,y \\leq 1\\\\\n",
    "0 & \\text{otherwise}\n",
    "\\end{cases}\n",
    "$$\n",
    "\n",
    "Find the MAP and the ML estimates of $X$ given $Y=y$."
   ]
  },
  {
   "cell_type": "markdown",
   "metadata": {},
   "source": [
    "### Exercise 5\n",
    "\n",
    "Find the VC-dimension of the set of the hyperplanes in a $d$-dimensional space. \n",
    "\n",
    "*Hint:* consider the problem of binary classification in $\\mathbb{R}^d$.\n",
    "\n",
    "\n",
    "\n"
   ]
  }
 ],
 "metadata": {
  "kernelspec": {
   "display_name": "Python 3",
   "language": "python",
   "name": "python3"
  },
  "language_info": {
   "codemirror_mode": {
    "name": "ipython",
    "version": 3
   },
   "file_extension": ".py",
   "mimetype": "text/x-python",
   "name": "python",
   "nbconvert_exporter": "python",
   "pygments_lexer": "ipython3",
   "version": "3.6.9"
  }
 },
 "nbformat": 4,
 "nbformat_minor": 4
}
