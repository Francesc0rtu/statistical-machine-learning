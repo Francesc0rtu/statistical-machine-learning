{
 "cells": [
  {
   "cell_type": "markdown",
   "metadata": {},
   "source": [
    "# Homework 07"
   ]
  },
  {
   "cell_type": "markdown",
   "metadata": {},
   "source": [
    "Consider the wine dataset classification problem from Homework 05. "
   ]
  },
  {
   "cell_type": "markdown",
   "metadata": {},
   "source": [
    "1. Use pyro to write a multinomial bayesian logistic regression model$^1$ on 5 predictors of your choice from the available features. You should define both a `guide()` function and a `model()` function. \n",
    "\n",
    "2. Run SVI inference with pyro `Adam` optimizer on the training data. Then plot the ELBO loss using `matplotlib.plot` function.\n",
    "\n",
    "3. Evaluate your model on the test data: compute the overall test accuracy and the class-wise accuracy for the three different wine categories.\n",
    "\n",
    "$^1$Section \"Bayesian logistic regression\" in notebook 07."
   ]
  }
 ],
 "metadata": {
  "kernelspec": {
   "display_name": "Python 3",
   "language": "python",
   "name": "python3"
  },
  "language_info": {
   "codemirror_mode": {
    "name": "ipython",
    "version": 3
   },
   "file_extension": ".py",
   "mimetype": "text/x-python",
   "name": "python",
   "nbconvert_exporter": "python",
   "pygments_lexer": "ipython3",
   "version": "3.6.9"
  }
 },
 "nbformat": 4,
 "nbformat_minor": 4
}
