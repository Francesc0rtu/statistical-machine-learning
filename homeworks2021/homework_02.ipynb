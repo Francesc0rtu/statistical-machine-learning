{
 "cells": [
  {
   "cell_type": "markdown",
   "metadata": {},
   "source": [
    "# Homework 02"
   ]
  },
  {
   "cell_type": "markdown",
   "metadata": {},
   "source": [
    "### Exercise 1\n",
    "\n",
    "Use the following lemma to generate $500$ samples from a $Binomial(30, 0.5)$ distribution in pyro. Plot the resulting distribution using `sns.distplot` function.\n",
    "\n",
    "**Lemma** Let $X_1,\\ldots, X_n$ be independent $Bernoulli(p)$ random variables, then $X=X_1+\\ldots+X_n$ is a random variable with $Binomial(n,p)$ distribution. \n"
   ]
  },
  {
   "cell_type": "markdown",
   "metadata": {},
   "source": [
    "### Exercise 2\n",
    "\n",
    "1. (**theory**) Consider the Gamma distribution$^1$ $\\text{Gamma}(\\alpha, \\beta)$ with p.d.f. $$\\frac{\\beta^\\alpha}{\\Gamma(\\alpha)}x^{\\alpha-1}e^{-\\beta x}$$\n",
    "and the Poisson distribution $\\text{Poisson}(\\lambda)$ with p.m.f. $$\\frac{\\lambda^k e^{-\\lambda}}{k!}.$$\n",
    "Given the generative model \n",
    "\\begin{align*}\n",
    "\\lambda &\\sim \\text{Gamma}(\\alpha, \\beta)\\\\\n",
    "x &\\sim \\text{Poisson}(\\lambda)\n",
    "\\end{align*}\n",
    "prove that the Gamma distribution is a conjugate prior$^2$ for the Poisson likelihood. \n",
    "\n",
    "2. (**code**) Set the parameters of the Gamma distribution to $\\alpha=1$ and $\\beta=2$. Write the pyro code to sample $\\lambda$ and $x$, extract $300$ samples for both random variables and plot their distributions. \n",
    "\n",
    "3. (**code**)\n",
    "Suppose you observe some data $x=[3, 10, 2, 5, 6, 7]$. Plot $300$ samples from the posterior distribution of $\\lambda$ as the number of observed data points from $x$ increases:\n",
    "\\begin{align*}\n",
    "x&=[3, 10]\\\\\n",
    "x&=[3, 10, 2, 5]\\\\\n",
    "x&=[3, 10, 2, 5, 6, 7].\n",
    "\\end{align*}\n",
    "\n",
    "$^1$Section \"Probability distributions\" in notebook 01.\n",
    "\n",
    "$^2$Section \"Conjugate priors\" in notebook 02."
   ]
  }
 ],
 "metadata": {
  "kernelspec": {
   "display_name": "Python 3",
   "language": "python",
   "name": "python3"
  },
  "language_info": {
   "codemirror_mode": {
    "name": "ipython",
    "version": 3
   },
   "file_extension": ".py",
   "mimetype": "text/x-python",
   "name": "python",
   "nbconvert_exporter": "python",
   "pygments_lexer": "ipython3",
   "version": "3.6.9"
  }
 },
 "nbformat": 4,
 "nbformat_minor": 4
}
