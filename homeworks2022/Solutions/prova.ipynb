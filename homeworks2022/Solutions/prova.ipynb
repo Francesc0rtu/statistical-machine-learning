{
 "cells": [
  {
   "cell_type": "code",
   "execution_count": 2,
   "metadata": {},
   "outputs": [],
   "source": [
    "import flax\n",
    "import flax.linen as flax_nn\n",
    "from numpyro.contrib.module import flax_module\n",
    "import numpy as np\n",
    "from jax import nn\n",
    "import jax.numpy as jnp\n",
    "import numpyro \n",
    "import numpyro.distributions as dist\n",
    "import numpyro.distributions.constraints as constraints\n",
    "\n",
    "assert numpyro.__version__.startswith(\"0.9.2\")"
   ]
  },
  {
   "cell_type": "code",
   "execution_count": 10,
   "metadata": {},
   "outputs": [],
   "source": [
    "def model(data):\n",
    "    S = 12\n",
    "    N = 6\n",
    "    #set hyperparameters\n",
    "    alpha_p = 1\n",
    "    beta_p = 1\n",
    "    alpha_pi= 1\n",
    "    beta_pi = 5\n",
    "\n",
    "    #global variables\n",
    "    p = numpyro.sample('p', dist.Beta(alpha_p, beta_p),sample_shape=(1,1))\n",
    "    print(p)\n",
    "\n",
    "    with numpyro.plate(\"pi_plate\", N):\n",
    "        pi = numpyro.sample('pi', dist.Beta(alpha_pi, beta_pi))\n",
    "\n",
    "    with numpyro.plate('r_plate', S):\n",
    "        r = numpyro.sample('r', dist.Bernoulli(probs=p))\n",
    "    \n",
    "  \n",
    "    print(pi)\n",
    "    with   numpyro.plate(\"r_plate\", S), numpyro.plate(\"pi_plate\", N):\n",
    "        # r_pi = torch.transpose(torch.unsqueeze(r, 0), 0, 1)\n",
    "\n",
    "        # t_pi = pi\n",
    "        t_pi = torch.transpose(torch.unsqueeze(pi, 0) , 0, 1)\n",
    "        # print(t_pi.size())\n",
    "        # print(\"t_pi:{}, t_pi.size={}\".format(t_pi,t_pi.size())) \n",
    "        # print(\"r*t_pi.size={}, t_pi*r.size={}, r*t_pi={}\".format((r*t_pi).size(),(t_pi*r).size(),(r*t_pi)))\n",
    "        # mu = numpyro.sample(\"mu\", dist.Bernoulli( r_pi * ( 1 - pi) + ( 1 - r_pi ) * pi ), obs=data)\n",
    "        mu = numpyro.sample(\"mu\", dist.Bernoulli( r * ( 1 - t_pi) + ( 1 - r ) * t_pi ), obs=data)\n",
    "        \n",
    "    return p, r,pi,mu\n"
   ]
  },
  {
   "cell_type": "code",
   "execution_count": 11,
   "metadata": {},
   "outputs": [
    {
     "name": "stdout",
     "output_type": "stream",
     "text": [
      "data: [1. 1. 1. 1. 1. 1. 1. 1. 1. 1. 1. 1.]\n"
     ]
    },
    {
     "ename": "AssertionError",
     "evalue": "",
     "output_type": "error",
     "traceback": [
      "\u001b[0;31m---------------------------------------------------------------------------\u001b[0m",
      "\u001b[0;31mAssertionError\u001b[0m                            Traceback (most recent call last)",
      "\u001b[1;32m/home/francesco/Documents/Probabilistic_ML/statistical-machine-learning/homeworks2022/Solutions/prova.ipynb Cell 3'\u001b[0m in \u001b[0;36m<module>\u001b[0;34m\u001b[0m\n\u001b[1;32m      <a href='vscode-notebook-cell:/home/francesco/Documents/Probabilistic_ML/statistical-machine-learning/homeworks2022/Solutions/prova.ipynb#ch0000002?line=1'>2</a>\u001b[0m \u001b[39m# data = torch.tensor([])\u001b[39;00m\n\u001b[1;32m      <a href='vscode-notebook-cell:/home/francesco/Documents/Probabilistic_ML/statistical-machine-learning/homeworks2022/Solutions/prova.ipynb#ch0000002?line=2'>3</a>\u001b[0m \u001b[39mprint\u001b[39m(\u001b[39m\"\u001b[39m\u001b[39mdata:\u001b[39m\u001b[39m\"\u001b[39m,data)\n\u001b[0;32m----> <a href='vscode-notebook-cell:/home/francesco/Documents/Probabilistic_ML/statistical-machine-learning/homeworks2022/Solutions/prova.ipynb#ch0000002?line=3'>4</a>\u001b[0m p,r,pi ,mu \u001b[39m=\u001b[39m model(data)\n\u001b[1;32m      <a href='vscode-notebook-cell:/home/francesco/Documents/Probabilistic_ML/statistical-machine-learning/homeworks2022/Solutions/prova.ipynb#ch0000002?line=4'>5</a>\u001b[0m \u001b[39mprint\u001b[39m(mu)\n\u001b[1;32m      <a href='vscode-notebook-cell:/home/francesco/Documents/Probabilistic_ML/statistical-machine-learning/homeworks2022/Solutions/prova.ipynb#ch0000002?line=5'>6</a>\u001b[0m \u001b[39mprint\u001b[39m(pi)\n",
      "\u001b[1;32m/home/francesco/Documents/Probabilistic_ML/statistical-machine-learning/homeworks2022/Solutions/prova.ipynb Cell 2'\u001b[0m in \u001b[0;36mmodel\u001b[0;34m(data)\u001b[0m\n\u001b[1;32m      <a href='vscode-notebook-cell:/home/francesco/Documents/Probabilistic_ML/statistical-machine-learning/homeworks2022/Solutions/prova.ipynb#ch0000001?line=7'>8</a>\u001b[0m beta_pi \u001b[39m=\u001b[39m \u001b[39m5\u001b[39m\n\u001b[1;32m     <a href='vscode-notebook-cell:/home/francesco/Documents/Probabilistic_ML/statistical-machine-learning/homeworks2022/Solutions/prova.ipynb#ch0000001?line=9'>10</a>\u001b[0m \u001b[39m#global variables\u001b[39;00m\n\u001b[0;32m---> <a href='vscode-notebook-cell:/home/francesco/Documents/Probabilistic_ML/statistical-machine-learning/homeworks2022/Solutions/prova.ipynb#ch0000001?line=10'>11</a>\u001b[0m p \u001b[39m=\u001b[39m numpyro\u001b[39m.\u001b[39;49msample(\u001b[39m'\u001b[39;49m\u001b[39mp\u001b[39;49m\u001b[39m'\u001b[39;49m, dist\u001b[39m.\u001b[39;49mBeta(alpha_p, beta_p),sample_shape\u001b[39m=\u001b[39;49m(\u001b[39m1\u001b[39;49m,\u001b[39m1\u001b[39;49m))\n\u001b[1;32m     <a href='vscode-notebook-cell:/home/francesco/Documents/Probabilistic_ML/statistical-machine-learning/homeworks2022/Solutions/prova.ipynb#ch0000001?line=11'>12</a>\u001b[0m \u001b[39mprint\u001b[39m(p)\n\u001b[1;32m     <a href='vscode-notebook-cell:/home/francesco/Documents/Probabilistic_ML/statistical-machine-learning/homeworks2022/Solutions/prova.ipynb#ch0000001?line=13'>14</a>\u001b[0m \u001b[39mwith\u001b[39;00m numpyro\u001b[39m.\u001b[39mplate(\u001b[39m\"\u001b[39m\u001b[39mpi_plate\u001b[39m\u001b[39m\"\u001b[39m, N):\n",
      "File \u001b[0;32m~/anaconda3/envs/deep_le/lib/python3.9/site-packages/numpyro/primitives.py:196\u001b[0m, in \u001b[0;36msample\u001b[0;34m(name, fn, obs, rng_key, sample_shape, infer, obs_mask)\u001b[0m\n\u001b[1;32m    <a href='file:///home/francesco/anaconda3/envs/deep_le/lib/python3.9/site-packages/numpyro/primitives.py?line=193'>194</a>\u001b[0m \u001b[39m# if there are no active Messengers, we just draw a sample and return it as expected:\u001b[39;00m\n\u001b[1;32m    <a href='file:///home/francesco/anaconda3/envs/deep_le/lib/python3.9/site-packages/numpyro/primitives.py?line=194'>195</a>\u001b[0m \u001b[39mif\u001b[39;00m \u001b[39mnot\u001b[39;00m _PYRO_STACK:\n\u001b[0;32m--> <a href='file:///home/francesco/anaconda3/envs/deep_le/lib/python3.9/site-packages/numpyro/primitives.py?line=195'>196</a>\u001b[0m     \u001b[39mreturn\u001b[39;00m fn(rng_key\u001b[39m=\u001b[39;49mrng_key, sample_shape\u001b[39m=\u001b[39;49msample_shape)\n\u001b[1;32m    <a href='file:///home/francesco/anaconda3/envs/deep_le/lib/python3.9/site-packages/numpyro/primitives.py?line=197'>198</a>\u001b[0m \u001b[39mif\u001b[39;00m obs_mask \u001b[39mis\u001b[39;00m \u001b[39mnot\u001b[39;00m \u001b[39mNone\u001b[39;00m:\n\u001b[1;32m    <a href='file:///home/francesco/anaconda3/envs/deep_le/lib/python3.9/site-packages/numpyro/primitives.py?line=198'>199</a>\u001b[0m     \u001b[39mreturn\u001b[39;00m _masked_observe(\n\u001b[1;32m    <a href='file:///home/francesco/anaconda3/envs/deep_le/lib/python3.9/site-packages/numpyro/primitives.py?line=199'>200</a>\u001b[0m         name, fn, obs, obs_mask, rng_key\u001b[39m=\u001b[39mrng_key, sample_shape\u001b[39m=\u001b[39m(), infer\u001b[39m=\u001b[39minfer\n\u001b[1;32m    <a href='file:///home/francesco/anaconda3/envs/deep_le/lib/python3.9/site-packages/numpyro/primitives.py?line=200'>201</a>\u001b[0m     )\n",
      "File \u001b[0;32m~/anaconda3/envs/deep_le/lib/python3.9/site-packages/numpyro/distributions/distribution.py:305\u001b[0m, in \u001b[0;36mDistribution.__call__\u001b[0;34m(self, *args, **kwargs)\u001b[0m\n\u001b[1;32m    <a href='file:///home/francesco/anaconda3/envs/deep_le/lib/python3.9/site-packages/numpyro/distributions/distribution.py?line=302'>303</a>\u001b[0m \u001b[39mif\u001b[39;00m sample_intermediates:\n\u001b[1;32m    <a href='file:///home/francesco/anaconda3/envs/deep_le/lib/python3.9/site-packages/numpyro/distributions/distribution.py?line=303'>304</a>\u001b[0m     \u001b[39mreturn\u001b[39;00m \u001b[39mself\u001b[39m\u001b[39m.\u001b[39msample_with_intermediates(key, \u001b[39m*\u001b[39margs, \u001b[39m*\u001b[39m\u001b[39m*\u001b[39mkwargs)\n\u001b[0;32m--> <a href='file:///home/francesco/anaconda3/envs/deep_le/lib/python3.9/site-packages/numpyro/distributions/distribution.py?line=304'>305</a>\u001b[0m \u001b[39mreturn\u001b[39;00m \u001b[39mself\u001b[39;49m\u001b[39m.\u001b[39;49msample(key, \u001b[39m*\u001b[39;49margs, \u001b[39m*\u001b[39;49m\u001b[39m*\u001b[39;49mkwargs)\n",
      "File \u001b[0;32m~/anaconda3/envs/deep_le/lib/python3.9/site-packages/numpyro/distributions/continuous.py:168\u001b[0m, in \u001b[0;36mBeta.sample\u001b[0;34m(self, key, sample_shape)\u001b[0m\n\u001b[1;32m    <a href='file:///home/francesco/anaconda3/envs/deep_le/lib/python3.9/site-packages/numpyro/distributions/continuous.py?line=166'>167</a>\u001b[0m \u001b[39mdef\u001b[39;00m \u001b[39msample\u001b[39m(\u001b[39mself\u001b[39m, key, sample_shape\u001b[39m=\u001b[39m()):\n\u001b[0;32m--> <a href='file:///home/francesco/anaconda3/envs/deep_le/lib/python3.9/site-packages/numpyro/distributions/continuous.py?line=167'>168</a>\u001b[0m     \u001b[39massert\u001b[39;00m is_prng_key(key)\n\u001b[1;32m    <a href='file:///home/francesco/anaconda3/envs/deep_le/lib/python3.9/site-packages/numpyro/distributions/continuous.py?line=168'>169</a>\u001b[0m     \u001b[39mreturn\u001b[39;00m \u001b[39mself\u001b[39m\u001b[39m.\u001b[39m_dirichlet\u001b[39m.\u001b[39msample(key, sample_shape)[\u001b[39m.\u001b[39m\u001b[39m.\u001b[39m\u001b[39m.\u001b[39m, \u001b[39m0\u001b[39m]\n",
      "\u001b[0;31mAssertionError\u001b[0m: "
     ]
    }
   ],
   "source": [
    "data = jnp.ones(12)\n",
    "# data = torch.tensor([])\n",
    "print(\"data:\",data)\n",
    "p,r,pi ,mu = model(data)\n",
    "print(mu)\n",
    "print(pi)\n",
    "# print(mu)\n",
    "numpyro.render_model(model, model_args=(data,))"
   ]
  }
 ],
 "metadata": {
  "interpreter": {
   "hash": "a142b7d21e8575b7566c168744f24153333bb674c4e2523209192565d5391819"
  },
  "kernelspec": {
   "display_name": "Python 3.9.7 ('deep_le')",
   "language": "python",
   "name": "python3"
  },
  "language_info": {
   "codemirror_mode": {
    "name": "ipython",
    "version": 3
   },
   "file_extension": ".py",
   "mimetype": "text/x-python",
   "name": "python",
   "nbconvert_exporter": "python",
   "pygments_lexer": "ipython3",
   "version": "3.9.7"
  },
  "orig_nbformat": 4
 },
 "nbformat": 4,
 "nbformat_minor": 2
}
