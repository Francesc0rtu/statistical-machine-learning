{
 "cells": [
  {
   "cell_type": "markdown",
   "metadata": {},
   "source": [
    "# Homework 6- Francesco Ortu"
   ]
  },
  {
   "cell_type": "markdown",
   "metadata": {},
   "source": [
    "The UCI ML hand-written digits datasets contains 8x8 images of digits belonging to 10 different classes:"
   ]
  },
  {
   "cell_type": "code",
   "execution_count": 140,
   "metadata": {},
   "outputs": [],
   "source": [
    "import sklearn\n",
    "import pyro\n",
    "import pyro.optim as optim\n",
    "import pyro.distributions as dist\n",
    "import torch.distributions.constraints as constraints\n",
    "import numpy as np\n",
    "import torch\n",
    "import matplotlib.pyplot as plt"
   ]
  },
  {
   "cell_type": "code",
   "execution_count": 141,
   "metadata": {},
   "outputs": [
    {
     "name": "stdout",
     "output_type": "stream",
     "text": [
      "predictors shape = (1797, 64)\n",
      "labels shape = (1797,)\n",
      "n. unique labels = 10\n"
     ]
    }
   ],
   "source": [
    "\n",
    "from sklearn.datasets import load_digits\n",
    "dataset = load_digits()\n",
    "\n",
    "x, y = dataset.data, dataset.target\n",
    "print(\"predictors shape =\", x.shape)\n",
    "print(\"labels shape =\", y.shape)\n",
    "print(\"n. unique labels =\", len(np.unique(y)))"
   ]
  },
  {
   "cell_type": "code",
   "execution_count": 142,
   "metadata": {},
   "outputs": [
    {
     "data": {
      "image/png": "[encoded data removed]",
      "text/plain": [
       "<Figure size 576x216 with 5 Axes>"
      ]
     },
     "metadata": {
      "needs_background": "light"
     },
     "output_type": "display_data"
    }
   ],
   "source": [
    "plt.figure(figsize=(8,3))\n",
    "for index, (image, label) in enumerate(zip(x[0:5], y[0:5])):\n",
    "    plt.subplot(1, 5, index + 1)\n",
    "    plt.imshow(np.reshape(image, (8,8)), cmap=plt.cm.gray)\n",
    "    plt.title('Label: %i\\n' % label, fontsize = 10)"
   ]
  },
  {
   "cell_type": "markdown",
   "metadata": {},
   "source": [
    "## 1\n",
    " Normalize the matrix of predictors and perform a train/test split using `train_test_split` from `sklearn` library."
   ]
  },
  {
   "cell_type": "code",
   "execution_count": 143,
   "metadata": {},
   "outputs": [],
   "source": [
    "#Normalize the data\n",
    "for i in range(0,x.shape[0]):\n",
    "    x[i] = x[i] / (x[i].max()-x[i].min())\n",
    "\n"
   ]
  },
  {
   "cell_type": "code",
   "execution_count": 144,
   "metadata": {},
   "outputs": [],
   "source": [
    "from sklearn.model_selection import train_test_split\n",
    "x_train, x_test, y_train, y_test = train_test_split(x, y, test_size=0.2, random_state=42)\n",
    "x_train = torch.tensor(x_train, dtype=torch.float)\n",
    "x_test = torch.tensor(x_test, dtype=torch.float)\n",
    "y_train = torch.tensor(y_train, dtype=torch.float)\n",
    "y_test = torch.tensor(y_test, dtype=torch.float)"
   ]
  },
  {
   "cell_type": "markdown",
   "metadata": {},
   "source": [
    "## 2/3\n",
    "Use pyro to write a multinomial bayesian logistic regression model $^1$. You should define both a `guide()` function and a `model()` function. Use a Categorical distributions on the outcomes to solve this multiclass classification problem.\n",
    "Run SVI inference using pyro `Adam` optimizer and plot the ELBO loss using `matplotlib.plot` function."
   ]
  },
  {
   "cell_type": "code",
   "execution_count": 145,
   "metadata": {},
   "outputs": [
    {
     "name": "stdout",
     "output_type": "stream",
     "text": [
      "Step 0 : loss = 2.6706234341955217\n",
      "Step 1000 : loss = 0.5828550260101828\n",
      "Step 2000 : loss = 0.523132611250164\n",
      "Step 3000 : loss = 0.7407385689895354\n",
      "Step 4000 : loss = 0.7131650333364722\n",
      "Step 5000 : loss = 0.6330982750293357\n",
      "Step 6000 : loss = 0.6052404775665963\n",
      "Step 7000 : loss = 0.6774518116530894\n",
      "Step 8000 : loss = 0.8240348587620151\n",
      "Step 9000 : loss = 0.6350338643179557\n"
     ]
    }
   ],
   "source": [
    "pyro.clear_param_store()\n",
    "def logistic_regression_model(x,y):\n",
    "    n_obs, n_predictors = x.shape\n",
    "    w = pyro.sample('w', dist.Normal(torch.zeros(n_predictors,10), torch.ones(n_predictors,10)).independent(2))\n",
    "    b = pyro.sample('b', dist.Normal(torch.zeros(10), torch.ones(10)).independent(1))\n",
    "    y_hat= torch.sigmoid(torch.matmul(x, w) + b)\n",
    "\n",
    "    with pyro.plate('data', n_obs):\n",
    "        y = pyro.sample('obs', dist.Categorical(y_hat), obs=y)\n",
    "\n",
    "def logistic_regression_guide(x, y=None):\n",
    "    n_observations, n_predictors = x.shape\n",
    "    \n",
    "    w_loc = pyro.param(\"w_loc\", torch.rand(n_predictors,10))\n",
    "    w_scale = pyro.param(\"w_scale\", torch.rand(n_predictors,10), constraint=constraints.positive)\n",
    "    w = pyro.sample(\"w\", dist.Normal(w_loc, w_scale).independent(2))\n",
    "    \n",
    "    b_loc = pyro.param(\"b_loc\", torch.rand(10))\n",
    "    b_scale = pyro.param(\"b_scale\", torch.rand(10), constraint=constraints.positive)\n",
    "    b = pyro.sample(\"b\", dist.Normal(b_loc, b_scale).independent(1))\n",
    "\n",
    "log_reg_svi = pyro.infer.SVI(logistic_regression_model, logistic_regression_guide, optim.ClippedAdam({\"lr\": 0.05}), loss=pyro.infer.Trace_ELBO())\n",
    "\n",
    "losses = []\n",
    "for step in range(10000):\n",
    "    loss = log_reg_svi.step(x_train, y_train)/len(x_train)\n",
    "    losses.append(loss)\n",
    "    if step % 1000 == 0:\n",
    "        print(f\"Step {step} : loss = {loss}\")\n",
    "        "
   ]
  },
  {
   "cell_type": "code",
   "execution_count": 146,
   "metadata": {},
   "outputs": [
    {
     "data": {
      "text/plain": [
       "Text(0.5, 1.0, 'ELBO loss')"
      ]
     },
     "execution_count": 146,
     "metadata": {},
     "output_type": "execute_result"
    },
    {
     "data": {
      "image/png": "[encoded data removed]",
      "text/plain": [
       "<Figure size 720x288 with 1 Axes>"
      ]
     },
     "metadata": {
      "needs_background": "light"
     },
     "output_type": "display_data"
    }
   ],
   "source": [
    "figsize=(10,4)\n",
    "fig, ax = plt.subplots(figsize=figsize)\n",
    "ax.plot(losses)\n",
    "ax.set_title(\"ELBO loss\")"
   ]
  },
  {
   "cell_type": "markdown",
   "metadata": {},
   "source": [
    "## 4 \n",
    "Evaluate your model on the test data: compute the overall test accuracy and the class-wise accuracy for the 10 categories."
   ]
  },
  {
   "cell_type": "code",
   "execution_count": 149,
   "metadata": {},
   "outputs": [
    {
     "name": "stdout",
     "output_type": "stream",
     "text": [
      "torch.Size([64, 10]) torch.Size([10]) tensor([[0.0000, 0.0000, 0.0000,  ..., 0.8750, 0.3125, 0.0000],\n",
      "        [0.0000, 0.0000, 0.6875,  ..., 0.0625, 0.0000, 0.0000],\n",
      "        [0.0000, 0.0000, 0.5000,  ..., 0.5000, 0.0000, 0.0000],\n",
      "        ...,\n",
      "        [0.0000, 0.0000, 0.4375,  ..., 0.6250, 0.0000, 0.0000],\n",
      "        [0.0000, 0.0000, 0.4375,  ..., 1.0000, 0.2500, 0.0000],\n",
      "        [0.0000, 0.0000, 0.8750,  ..., 0.3125, 0.0000, 0.0000]])\n"
     ]
    }
   ],
   "source": [
    "w = pyro.get_param_store()[\"w_loc\"]\n",
    "b = pyro.get_param_store()[\"b_loc\"]\n",
    "print(w.shape,b.shape)"
   ]
  },
  {
   "cell_type": "code",
   "execution_count": 154,
   "metadata": {},
   "outputs": [
    {
     "name": "stdout",
     "output_type": "stream",
     "text": [
      "test accuracy = 96.11%\n"
     ]
    }
   ],
   "source": [
    "def predict_class(x):\n",
    "    out = torch.sigmoid(torch.matmul(x, w) + b)\n",
    "    return out.argmax(dim=1)\n",
    "\n",
    "correct_predictions = (predict_class(x_test) == y_test).sum().item()\n",
    "\n",
    "print(f\"test accuracy = {correct_predictions/len(x_test)*100:.2f}%\")"
   ]
  }
 ],
 "metadata": {
  "interpreter": {
   "hash": "a142b7d21e8575b7566c168744f24153333bb674c4e2523209192565d5391819"
  },
  "kernelspec": {
   "display_name": "Python 3.9.7 ('deep_le')",
   "language": "python",
   "name": "python3"
  },
  "language_info": {
   "codemirror_mode": {
    "name": "ipython",
    "version": 3
   },
   "file_extension": ".py",
   "mimetype": "text/x-python",
   "name": "python",
   "nbconvert_exporter": "python",
   "pygments_lexer": "ipython3",
   "version": "3.9.7"
  },
  "orig_nbformat": 4
 },
 "nbformat": 4,
 "nbformat_minor": 2
}
