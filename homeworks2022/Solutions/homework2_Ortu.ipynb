{
 "cells": [
  {
   "cell_type": "markdown",
   "metadata": {},
   "source": [
    "# Homework 2- Francesco Ortu"
   ]
  },
  {
   "cell_type": "markdown",
   "metadata": {},
   "source": [
    "\n",
    "## Ex 1\n",
    "Let's define the following events :\n",
    "- $D$ the event of been affected from the disease. \n",
    "- $SP$ the event of result postitive to the test (___screen postive___). \n",
    "\n",
    "We know that:\n",
    "$$ \\mathbb{P}(D)=\\dfrac{3}{1000}$$\n",
    "$$\\mathbb{P}(SP | D)=\\dfrac{95}{100}$$\n",
    "$$\\mathbb{P}(SP | ¬D)=\\dfrac{1}{10}$$\n",
    "So\n",
    "$$\\mathbb{P}(SP)=\\mathbb{P}(SP|D)\\mathbb{P}(D)+\\mathbb{P}(SP|¬D)\\mathbb{P}(¬D)=\\dfrac{95 \\cdot 3}{100 \\cdot 1000}+ \\dfrac{1 \\cdot 997}{10 \\cdot 1000}=0.1 $$\n",
    "and\n",
    "$$ \\mathbb{P}(D|SP)=\\dfrac{\\mathbb{P}(SP|D)\\mathbb{P}(D)}{\\mathbb{P}(SP)}= 0.0285 $$\n",
    "\n",
    "## Ex 2\n"
   ]
  },
  {
   "cell_type": "code",
   "execution_count": 7,
   "metadata": {},
   "outputs": [],
   "source": [
    "import torch\n",
    "import pyro\n",
    "import pyro.distributions as dist\n",
    "import matplotlib.pyplot as plt\n",
    "import numpy as np\n",
    "import pandas as pd\n",
    "import seaborn as sns\n",
    "\n",
    "def compute_ecdf( x, sample, n_samples):\n",
    "    \"\"\"\n",
    "    Compute the empirical cumulative distribution function of a distribution.\n",
    "    \"\"\"\n",
    "    cdf = torch.sum(sample < x) / n_samples\n",
    "    return cdf.item()\n",
    "\n",
    "def ecdf(Dist, x, n_samples):\n",
    "    sample = torch.stack( [pyro.sample(\"sample\", Dist) for i in range(n_samples)] )\n",
    "    z = np.linspace(0, sample.max()*2, 100)\n",
    "    y = np.zeros(100)\n",
    "    for i in range(100):\n",
    "        y[i] = compute_ecdf(z[i], sample, n_samples)\n",
    "    plt.plot(z, y, color='red')\n",
    "    plt.show()\n",
    "    return compute_ecdf(x, sample, n_samples)"
   ]
  },
  {
   "cell_type": "code",
   "execution_count": 322,
   "metadata": {},
   "outputs": [
    {
     "data": {
      "image/png": "[encoded data removed]",
      "text/plain": [
       "<Figure size 432x288 with 1 Axes>"
      ]
     },
     "metadata": {
      "needs_background": "light"
     },
     "output_type": "display_data"
    },
    {
     "data": {
      "text/plain": [
       "0.6470000147819519"
      ]
     },
     "execution_count": 322,
     "metadata": {},
     "output_type": "execute_result"
    }
   ],
   "source": [
    "ecdf(dist.Exponential(0.5), 2, 1000)"
   ]
  },
  {
   "cell_type": "markdown",
   "metadata": {},
   "source": [
    "## Ex 3"
   ]
  },
  {
   "cell_type": "markdown",
   "metadata": {},
   "source": [
    "### 1.\n",
    "Using the cdf from the previous exercise, verify that the prior probability that $ \\mu \\in [155,175] $ is approximately $95\\%$ :"
   ]
  },
  {
   "cell_type": "code",
   "execution_count": 323,
   "metadata": {},
   "outputs": [
    {
     "data": {
      "image/png": "[encoded data removed]",
      "text/plain": [
       "<Figure size 432x288 with 1 Axes>"
      ]
     },
     "metadata": {
      "needs_background": "light"
     },
     "output_type": "display_data"
    },
    {
     "data": {
      "image/png": "[encoded data removed]",
      "text/plain": [
       "<Figure size 432x288 with 1 Axes>"
      ]
     },
     "metadata": {
      "needs_background": "light"
     },
     "output_type": "display_data"
    },
    {
     "name": "stdout",
     "output_type": "stream",
     "text": [
      "0.9470000006258488\n"
     ]
    }
   ],
   "source": [
    "Dist = dist.Normal(160,3)\n",
    "prob = ecdf(Dist, 175, 1000)*(1-ecdf(Dist, 155, 1000))\n",
    "print(prob)"
   ]
  },
  {
   "cell_type": "markdown",
   "metadata": {},
   "source": [
    "### 2."
   ]
  },
  {
   "cell_type": "markdown",
   "metadata": {},
   "source": [
    "The likelihood is:\n",
    "$$ L(x_1,\\dots,x_n, \\mu)= f(x | \\mu ) = \\dfrac{1}{\\sigma^n (2\\pi)^{\\frac{n}{2}}}e^{ -\\sum_{i=1}^{n} \\frac{1}{2} \\left(  \\frac{x_i - \\mu }{\\sigma}  \\right)^2 } $$\n",
    "so\n",
    "\n",
    "$$ f(\\mu)f(x| \\mu) = \\dfrac{1}{\\sigma_0\\sigma^{n} (2\\pi)^{\\frac{n+1}{2}}}e^{ -\\sum_{i=1}^{n} \\frac{1}{2} \\left(  \\frac{x_i - \\mu }{\\sigma}  \\right)^2 -\\frac{1}{2} \\left(    \\frac{\\mu-\\mu_0}{\\sigma_0}  \\right)^2 } $$\n",
    "$$ \\propto e^{  \\frac{1}{2\\sigma_{0}^2} (-\\mu^2 - \\mu_{0}^2 + 2\\mu_0 \\mu )     -\\frac{1}{2 \\sigma^2} \\sum \\left( x_{i}^2 - 2x_i \\mu +\\mu^2    \\right) }  $$ \n",
    "$$ \\propto  e^{  -\\frac{-\\mu^2 ( \\sigma^2 + n \\sigma_{0}^2 ) + 2\\mu ( \\mu_0\\sigma^2 + \\sigma_{0}^2 x_1 + \\cdots + \\sigma_{0}^2 x_n ) - ( \\sigma_{0}^2 \\mu^2 + \\sigma_{0}^2 x_{1}^2 + \\cdots + \\sigma_{0}^2 x_{n}^2 ) }{ 2 \\sigma_{0}^2 \\sigma^2  } }  $$\n",
    "$$  \\propto  exp\\left[ - \\dfrac{ \\left( \\mu -\\frac{ \\mu_0 \\sigma^2 + \\sum \\sigma_{0}^2 x_i }{\\sigma^2 + n \\sigma_{0}^2 } \\right) }{2 \\frac{\\sigma_{0}^2 \\sigma^2}{\\sigma^2 + n\\sigma_{0}^2 }  }  \\right]  $$ "
   ]
  },
  {
   "cell_type": "markdown",
   "metadata": {},
   "source": [
    "### 3.\n",
    "Using the calculation of the previous point, replacing with $ \\mu_0=160, \\sigma_0=3, \\sigma=6 $, we obtain that the posterior is distribuited accordingly to $ N(166,2) $."
   ]
  },
  {
   "cell_type": "code",
   "execution_count": 9,
   "metadata": {},
   "outputs": [
    {
     "name": "stdout",
     "output_type": "stream",
     "text": [
      "          prior   posterior\n",
      "0    159.979965  168.559357\n",
      "1    159.012802  165.801010\n",
      "2    156.893524  165.459793\n",
      "3    158.105728  168.698273\n",
      "4    159.882614  165.196838\n",
      "..          ...         ...\n",
      "995  157.582809  169.114548\n",
      "996  163.329132  164.992722\n",
      "997  165.690369  166.311874\n",
      "998  164.010666  164.906738\n",
      "999  163.504822  165.478714\n",
      "\n",
      "[1000 rows x 2 columns]\n"
     ]
    },
    {
     "data": {
      "image/png": "[encoded data removed]",
      "text/plain": [
       "<Figure size 440.625x360 with 1 Axes>"
      ]
     },
     "metadata": {
      "needs_background": "light"
     },
     "output_type": "display_data"
    }
   ],
   "source": [
    "normal_1 =  dist.Normal(160, 3)\n",
    "normal_2 = dist.Normal(167, 2)\n",
    "\n",
    "prior_sample = normal_1.sample((1000,))\n",
    "posterior_sample = normal_2.sample((1000,))\n",
    "\n",
    "# print(prior_sample)\n",
    "data = pd.DataFrame({\"prior\":prior_sample, \"posterior\":posterior_sample})\n",
    "# plot prior\n",
    "sns.displot(data, kind=\"kde\", color=\"red\")\n"
   ]
  },
  {
   "cell_type": "markdown",
   "metadata": {},
   "source": [
    "## Ex 4\n",
    "The PMF of a r.v. following a geometric distribution of parameter $  \\theta $ is :\n",
    "$$ f(x)= (1-\\theta)^{x -1 } \\theta $$\n",
    "So, the likelihood is:\n",
    "$$ L(x,\\theta) = \\prod_{i}^{n} (1-\\theta)^{x_i -1 } \\theta = (1-\\theta)^{\\prod_{i}^{n} x_i - n } \\theta^n $$\n",
    "\n",
    "The PMF of beta distribution is:\n",
    "$$\\pi(\\theta) = \\dfrac{\\Gamma(\\alpha + \\beta)}{\\Gamma(\\alpha)\\Gamma(\\beta)} \\theta^{\\alpha -1}(1-\\theta)^{\\beta-1}  $$"
   ]
  },
  {
   "cell_type": "markdown",
   "metadata": {},
   "source": [
    "Now it's hold that the posterior distribution is :\n",
    "$$ L(x,\\theta)\\pi(\\theta) \\propto  \\theta^{(\\alpha+n)-1} (1-\\theta)^{(\\beta +\\prod_{i}^{n} x_i - n) -1 } \\propto  \\theta^{\\alpha' -1} (1-\\theta)^{\\beta' -1} $$\n",
    "that is still a beta distribution with parameters $ \\alpha',\\beta'$."
   ]
  }
 ],
 "metadata": {
  "interpreter": {
   "hash": "a142b7d21e8575b7566c168744f24153333bb674c4e2523209192565d5391819"
  },
  "kernelspec": {
   "display_name": "Python 3.9.7 ('deep_le')",
   "language": "python",
   "name": "python3"
  },
  "language_info": {
   "codemirror_mode": {
    "name": "ipython",
    "version": 3
   },
   "file_extension": ".py",
   "mimetype": "text/x-python",
   "name": "python",
   "nbconvert_exporter": "python",
   "pygments_lexer": "ipython3",
   "version": "3.9.7"
  },
  "orig_nbformat": 4
 },
 "nbformat": 4,
 "nbformat_minor": 2
}
