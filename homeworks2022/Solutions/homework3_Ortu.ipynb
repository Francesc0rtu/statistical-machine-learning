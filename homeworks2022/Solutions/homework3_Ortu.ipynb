{
 "cells": [
  {
   "cell_type": "markdown",
   "metadata": {},
   "source": [
    "# Homework 3 - Francesco Ortu"
   ]
  },
  {
   "cell_type": "markdown",
   "metadata": {},
   "source": [
    "## Ex 1"
   ]
  },
  {
   "cell_type": "markdown",
   "metadata": {},
   "source": [
    "1. Draw the Bayesian Network representing the joint distribution\n",
    "\n",
    "$$P(A,B,C,D,E,F,G)=P(A)P(B|A)P(F|B)P(C|A)P(D|B)P(E|D,F)P(G).$$"
   ]
  },
  {
   "cell_type": "markdown",
   "metadata": {},
   "source": [
    "![image](/home/francesco/Documents/Probabilistic_ML/statistical-machine-learning/homeworks2022/Solutions/net.png)"
   ]
  },
  {
   "cell_type": "markdown",
   "metadata": {},
   "source": [
    "2. Indicate whether the following statements on (conditional) independence are True or False and motivate your answer.\n",
    "\n",
    " a. $A\\perp \\!\\!\\! \\perp  D$ : FALSE\n",
    "\n",
    "    D is a descendant of A\n",
    "    \n",
    " \n",
    " b. $F \\perp \\!\\!\\! \\perp  D$ : FALSE\n",
    " \n",
    "    F and D have the same parents\n",
    "\n",
    " \n",
    " c. $A\\perp \\!\\!\\! \\perp  B | C$ : FALSE\n",
    "      $$ P(A,B | C) = \\dfrac{P(A,B,C)}{P(C)} = \\dfrac{P(A)P(C|A)P(B|A)}{P(C)} = P(B|A)P(A|C) \\not = P(A|C)P(B|C) $$\n",
    " \n",
    " d. $A\\perp \\!\\!\\! \\perp  D | B$ : TRUE\n",
    "     $$ P(A,D | B) = \\dfrac{P(A,D,B)}{P(B)}=\\dfrac{P(A)P(B|A)P(D|B)}{P(B)}=P(A|B)P(D|B) $$\n",
    " \n",
    " e. $D\\perp \\!\\!\\! \\perp  F | E$ : FALSE\n",
    " \n",
    "      head to head\n",
    "      \n",
    "   $$ P(D,F |E) = \\dfrac{P(D,F,E)}{P(E)}=\\dfrac{P(D,F)P(E|F,D)}{P(E)} \\not = P(D|E)P(F|E) $$\n",
    "\n",
    " f. $B\\perp \\!\\!\\! \\perp F| E$ : FALSE\n",
    "    $$ P(B,F | E) = \\dfrac{P(B,F,E)}{P(E)}=\\dfrac{P(B)P(F|B)P(E|F)}{P(E)} \\not = P(B|E)P(F|E) $$\n",
    "     \n",
    "\n",
    " g. $A\\perp \\!\\!\\! \\perp  D | \\{B, F\\}$ : TRUE\n",
    "  $$\\begin{aligned}\n",
    "  P(A,D | B,F) &= \\dfrac{P(A,D,B,F) }{P(B,F)} = \\dfrac{P(A)P(B|A)P(F|B)P(D|B)}{P(B)P(F|B)} \n",
    "  \\\\ & = P(A|B)P(D|B) = \\dfrac{P(B,A)P(A) P(F|B)}{P(A)P(B)P(F|B)} \\cdot P(D|B) \n",
    "  \\\\ & = \\dfrac{ P(B|A)P(A)P(F|B)  }{ P(B)P(F|B) } \\cdot \\dfrac{P(D|B)P(F|B)P(B)}{P(B)P(F|B)}\n",
    "  \\\\ & = \\dfrac{ P(A,B,F) }{ P(B,F) } \\cdot \\dfrac{ P(D,B,F) } { P(B,F) } = P(A | B, F)P(D | B, F)\n",
    "  \\end{aligned}\n",
    "  $$\n",
    "  \n"
   ]
  },
  {
   "cell_type": "markdown",
   "metadata": {},
   "source": [
    "## EX 2\n",
    "\n",
    "1. Write the generative model represented by the following directed graph, knowing that:\n",
    "    - $p$ and $\\pi_j$ are sampled from Beta distributions;\n",
    "    - $r_i$ is sampled from a Bernoulli distribution;\n",
    "    - $u_{ij}$ is sampled from a Bernoulli distribution with parameter $r_i (1 - \\pi_j) + (1 - r_i)\\pi_j$.\n",
    "\n",
    "![image](/home/francesco/Documents/Probabilistic_ML/statistical-machine-learning/homeworks2022/Solutions/net_bay.png)\n",
    "\n",
    "2. Implement the generative model using `pyro`. \n",
    "\n",
    "    Set the hyperparameters to $\\alpha_p=1,\\beta_p=1,\\alpha_\\pi=1,\\beta_\\pi=5$ and evaluate your model on the observations `data = dist.Bernoulli(0.6).sample((12,6))`.\n",
    "\n",
    "    Remember to use plate notation and to condition on the observed data!\n",
    "\n",
    "----"
   ]
  },
  {
   "cell_type": "markdown",
   "metadata": {},
   "source": [
    "The joint distribution is:\n",
    "$$ P(p,r,\\mu,\\pi |\\alpha_p, \\alpha_{\\pi}, \\beta_p, \\beta_{\\pi}) = P(p|\\alpha_p, \\beta_p) \\prod_{j=1}^N P(\\pi_j | \\beta_{\\pi}, \\alpha_{\\pi}) \\prod_{i=1}^S P(r_i |p) \\prod_{\\substack{i=1\\dots N \\\\ j=1\\dots S }} P(\\mu_{ij}|r_i,p_j) $$\n",
    "Given the observations, we can compute the joint distribution:\n",
    "$$ P(p,r,\\pi | \\mu, \\alpha_p, \\alpha_{\\pi}, \\beta_p, \\beta_{\\pi} ) = \\dfrac{P(p,r,\\mu,\\pi |\\alpha_p, \\alpha_{\\pi}, \\beta_p, \\beta_{\\pi}) }{P(\\mu |\\alpha_p, \\alpha_{\\pi}, \\beta_p, \\beta_{\\pi})} $$"
   ]
  },
  {
   "cell_type": "code",
   "execution_count": 3,
   "metadata": {},
   "outputs": [],
   "source": [
    "import pyro \n",
    "import torch\n",
    "import pyro.distributions as dist"
   ]
  },
  {
   "cell_type": "code",
   "execution_count": 119,
   "metadata": {},
   "outputs": [],
   "source": [
    "def model(data):\n",
    "    N = data.size()[0]\n",
    "    S = data.size()[1]\n",
    "    #set hyperparameters\n",
    "    alpha_p = 1\n",
    "    beta_p = 1\n",
    "    alpha_pi= 1\n",
    "    beta_pi = 5\n",
    "\n",
    "    \n",
    "    p = pyro.sample('p', dist.Beta(alpha_p, beta_p))\n",
    "    \n",
    "    r_plate = pyro.plate('r_plate', S, dim = -1)\n",
    "    pi_plate = pyro.plate(\"pi_plate\", N, dim = -2)\n",
    "\n",
    "    with pi_plate:\n",
    "        pi = pyro.sample('pi', dist.Beta(alpha_pi, beta_pi))\n",
    "\n",
    "    with r_plate:\n",
    "        r = pyro.sample('r', dist.Bernoulli(probs=p))\n",
    "    \n",
    "    with   pi_plate, r_plate:\n",
    "        u = pyro.sample( \"u\", dist.Bernoulli( r * ( 1 - pi) + ( 1 - r ) * pi), obs=data )\n",
    "        \n",
    "    return p, r,pi,u"
   ]
  },
  {
   "cell_type": "code",
   "execution_count": 120,
   "metadata": {},
   "outputs": [
    {
     "name": "stdout",
     "output_type": "stream",
     "text": [
      "tensor(0.6268) tensor([1., 1., 0., 0., 1., 1.]) tensor([[0.1436],\n",
      "        [0.0748],\n",
      "        [0.0337],\n",
      "        [0.0497],\n",
      "        [0.0330],\n",
      "        [0.2033],\n",
      "        [0.0222],\n",
      "        [0.0875],\n",
      "        [0.1386],\n",
      "        [0.0146],\n",
      "        [0.0477],\n",
      "        [0.2430]]) tensor([[0., 0., 0., 1., 0., 1.],\n",
      "        [0., 1., 1., 1., 1., 1.],\n",
      "        [0., 1., 1., 0., 1., 1.],\n",
      "        [1., 1., 0., 0., 0., 0.],\n",
      "        [0., 1., 0., 1., 0., 1.],\n",
      "        [0., 0., 1., 1., 1., 0.],\n",
      "        [1., 1., 1., 0., 1., 0.],\n",
      "        [1., 1., 1., 1., 1., 1.],\n",
      "        [1., 0., 1., 0., 0., 1.],\n",
      "        [0., 1., 0., 0., 0., 0.],\n",
      "        [0., 0., 0., 1., 0., 1.],\n",
      "        [1., 0., 0., 1., 0., 1.]])\n"
     ]
    },
    {
     "data": {
      "image/svg+xml": "<?xml version=\"1.0\" encoding=\"UTF-8\" standalone=\"no\"?>\n<!DOCTYPE svg PUBLIC \"-//W3C//DTD SVG 1.1//EN\"\n \"http://www.w3.org/Graphics/SVG/1.1/DTD/svg11.dtd\">\n<!-- Generated by graphviz version 2.43.0 (0)\n -->\n<!-- Title: %3 Pages: 1 -->\n<svg width=\"208pt\" height=\"301pt\"\n viewBox=\"0.00 0.00 208.00 301.00\" xmlns=\"http://www.w3.org/2000/svg\" xmlns:xlink=\"http://www.w3.org/1999/xlink\">\n<g id=\"graph0\" class=\"graph\" transform=\"scale(1 1) rotate(0) translate(4 297)\">\n<title>%3</title>\n<polygon fill=\"white\" stroke=\"transparent\" points=\"-4,4 -4,-297 204,-297 204,4 -4,4\"/>\n<g id=\"clust1\" class=\"cluster\">\n<title>cluster_pi_plate</title>\n<polygon fill=\"none\" stroke=\"black\" points=\"86,-8 86,-197 172,-197 172,-8 86,-8\"/>\n<text text-anchor=\"middle\" x=\"135.5\" y=\"-15.8\" font-family=\"Times,serif\" font-size=\"14.00\">pi_plate</text>\n</g>\n<g id=\"clust2\" class=\"cluster\">\n<title>cluster_r_plate</title>\n<polygon fill=\"none\" stroke=\"black\" points=\"94,-39 94,-114 164,-114 164,-39 94,-39\"/>\n<text text-anchor=\"middle\" x=\"131\" y=\"-46.8\" font-family=\"Times,serif\" font-size=\"14.00\">r_plate</text>\n</g>\n<g id=\"clust3\" class=\"cluster\">\n<title>cluster_r_plate__CLONE</title>\n<polygon fill=\"none\" stroke=\"black\" points=\"8,-122 8,-197 78,-197 78,-122 8,-122\"/>\n<text text-anchor=\"middle\" x=\"45\" y=\"-129.8\" font-family=\"Times,serif\" font-size=\"14.00\">r_plate</text>\n</g>\n<!-- p -->\n<g id=\"node1\" class=\"node\">\n<title>p</title>\n<ellipse fill=\"white\" stroke=\"black\" cx=\"43\" cy=\"-259\" rx=\"27\" ry=\"18\"/>\n<text text-anchor=\"middle\" x=\"43\" y=\"-255.3\" font-family=\"Times,serif\" font-size=\"14.00\">p</text>\n</g>\n<!-- r -->\n<g id=\"node4\" class=\"node\">\n<title>r</title>\n<ellipse fill=\"white\" stroke=\"black\" cx=\"43\" cy=\"-171\" rx=\"27\" ry=\"18\"/>\n<text text-anchor=\"middle\" x=\"43\" y=\"-167.3\" font-family=\"Times,serif\" font-size=\"14.00\">r</text>\n</g>\n<!-- p&#45;&gt;r -->\n<g id=\"edge1\" class=\"edge\">\n<title>p&#45;&gt;r</title>\n<path fill=\"none\" stroke=\"black\" d=\"M43,-240.6C43,-228.75 43,-212.82 43,-199.29\"/>\n<polygon fill=\"black\" stroke=\"black\" points=\"46.5,-199.08 43,-189.08 39.5,-199.08 46.5,-199.08\"/>\n</g>\n<!-- pi -->\n<g id=\"node2\" class=\"node\">\n<title>pi</title>\n<ellipse fill=\"white\" stroke=\"black\" cx=\"129\" cy=\"-171\" rx=\"27\" ry=\"18\"/>\n<text text-anchor=\"middle\" x=\"129\" y=\"-167.3\" font-family=\"Times,serif\" font-size=\"14.00\">pi</text>\n</g>\n<!-- u -->\n<g id=\"node3\" class=\"node\">\n<title>u</title>\n<ellipse fill=\"grey\" stroke=\"black\" cx=\"129\" cy=\"-88\" rx=\"27\" ry=\"18\"/>\n<text text-anchor=\"middle\" x=\"129\" y=\"-84.3\" font-family=\"Times,serif\" font-size=\"14.00\">u</text>\n</g>\n<!-- pi&#45;&gt;u -->\n<g id=\"edge2\" class=\"edge\">\n<title>pi&#45;&gt;u</title>\n<path fill=\"none\" stroke=\"black\" d=\"M129,-152.82C129,-142.19 129,-128.31 129,-116.2\"/>\n<polygon fill=\"black\" stroke=\"black\" points=\"132.5,-116.15 129,-106.15 125.5,-116.15 132.5,-116.15\"/>\n</g>\n<!-- r&#45;&gt;u -->\n<g id=\"edge3\" class=\"edge\">\n<title>r&#45;&gt;u</title>\n<path fill=\"none\" stroke=\"black\" d=\"M53.96,-154.37C61.28,-144.5 71.48,-131.81 82,-122 87.82,-116.58 94.57,-111.33 101.11,-106.68\"/>\n<polygon fill=\"black\" stroke=\"black\" points=\"103.52,-109.27 109.8,-100.74 99.57,-103.5 103.52,-109.27\"/>\n</g>\n<!-- distribution_description_node -->\n<g id=\"node5\" class=\"node\">\n<title>distribution_description_node</title>\n<text text-anchor=\"start\" x=\"96\" y=\"-277.8\" font-family=\"Times,serif\" font-size=\"14.00\">p ~ Beta</text>\n<text text-anchor=\"start\" x=\"96\" y=\"-262.8\" font-family=\"Times,serif\" font-size=\"14.00\">pi ~ Beta</text>\n<text text-anchor=\"start\" x=\"96\" y=\"-247.8\" font-family=\"Times,serif\" font-size=\"14.00\">r ~ Bernoulli</text>\n<text text-anchor=\"start\" x=\"96\" y=\"-232.8\" font-family=\"Times,serif\" font-size=\"14.00\">u ~ Bernoulli</text>\n</g>\n</g>\n</svg>\n",
      "text/plain": [
       "<graphviz.graphs.Digraph at 0x7f3f16c84e50>"
      ]
     },
     "execution_count": 120,
     "metadata": {},
     "output_type": "execute_result"
    }
   ],
   "source": [
    "data = dist.Bernoulli(0.6).sample((12,6))\n",
    "\n",
    "p,r,pi ,u = model(data)\n",
    "\n",
    "print(p,r,pi,u)\n",
    "\n",
    "pyro.render_model(model, model_args=(data,),render_distributions=True) #plates that are overlapped are rendered as two separate plates\n"
   ]
  }
 ],
 "metadata": {
  "interpreter": {
   "hash": "a142b7d21e8575b7566c168744f24153333bb674c4e2523209192565d5391819"
  },
  "kernelspec": {
   "display_name": "Python 3.9.7 ('deep_le')",
   "language": "python",
   "name": "python3"
  },
  "language_info": {
   "codemirror_mode": {
    "name": "ipython",
    "version": 3
   },
   "file_extension": ".py",
   "mimetype": "text/x-python",
   "name": "python",
   "nbconvert_exporter": "python",
   "pygments_lexer": "ipython3",
   "version": "3.9.7"
  }
 },
 "nbformat": 4,
 "nbformat_minor": 2
}
